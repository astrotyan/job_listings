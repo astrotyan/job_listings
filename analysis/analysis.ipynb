{
 "cells": [
  {
   "cell_type": "markdown",
   "metadata": {},
   "source": [
    "# Library and Setting"
   ]
  },
  {
   "cell_type": "code",
   "execution_count": 1,
   "metadata": {},
   "outputs": [],
   "source": [
    "import numpy as np\n",
    "import pandas as pd\n",
    "import re\n",
    "import collections\n",
    "from nltk.corpus import stopwords\n",
    "from nltk.tokenize import word_tokenize\n",
    "from textblob import TextBlob"
   ]
  },
  {
   "cell_type": "code",
   "execution_count": 2,
   "metadata": {},
   "outputs": [],
   "source": [
    "from matplotlib import pyplot as plt\n",
    "plt.style.use('ggplot')\n",
    "%matplotlib inline\n",
    "import seaborn as sb"
   ]
  },
  {
   "cell_type": "code",
   "execution_count": 3,
   "metadata": {},
   "outputs": [],
   "source": [
    "pd.set_option('display.max_columns', 50)"
   ]
  },
  {
   "cell_type": "markdown",
   "metadata": {},
   "source": [
    "# Data Inspection"
   ]
  },
  {
   "cell_type": "code",
   "execution_count": 4,
   "metadata": {},
   "outputs": [
    {
     "data": {
      "text/plain": [
       "(16824, 27)"
      ]
     },
     "execution_count": 4,
     "metadata": {},
     "output_type": "execute_result"
    }
   ],
   "source": [
    "aws_raw = pd.read_csv('../aws/aws.csv')\n",
    "aws_raw.shape"
   ]
  },
  {
   "cell_type": "code",
   "execution_count": 5,
   "metadata": {},
   "outputs": [],
   "source": [
    "# aws_raw.sample(5)"
   ]
  },
  {
   "cell_type": "code",
   "execution_count": 6,
   "metadata": {},
   "outputs": [
    {
     "data": {
      "text/plain": [
       "(4494, 11)"
      ]
     },
     "execution_count": 6,
     "metadata": {},
     "output_type": "execute_result"
    }
   ],
   "source": [
    "azure_raw = pd.read_csv('../azure/azure.csv')\n",
    "azure_raw.shape"
   ]
  },
  {
   "cell_type": "code",
   "execution_count": 7,
   "metadata": {},
   "outputs": [],
   "source": [
    "# azure_raw.sample(5)"
   ]
  },
  {
   "cell_type": "markdown",
   "metadata": {},
   "source": [
    "# Data Cleaning"
   ]
  },
  {
   "cell_type": "markdown",
   "metadata": {},
   "source": [
    "## <font color=blue> AWS </font>"
   ]
  },
  {
   "cell_type": "markdown",
   "metadata": {},
   "source": [
    "### <font color=green> Discard unwanted columns and reorder columns </font>"
   ]
  },
  {
   "cell_type": "code",
   "execution_count": 8,
   "metadata": {},
   "outputs": [],
   "source": [
    "# aws_raw.columns.tolist()"
   ]
  },
  {
   "cell_type": "code",
   "execution_count": 9,
   "metadata": {},
   "outputs": [],
   "source": [
    "aws_dum = aws_raw[['title','id_icims','posted_date','city','state','country_code',\\\n",
    "                     'description','basic_qualifications','preferred_qualifications',\\\n",
    "                     'updated_time','location','normalized_location','company_name',\\\n",
    "                     'business_category','job_category','job_family','team',\n",
    "                     'primary_search_label','optional_search_labels']]"
   ]
  },
  {
   "cell_type": "code",
   "execution_count": 10,
   "metadata": {
    "scrolled": true
   },
   "outputs": [],
   "source": [
    "# aws_dum.sample(5)"
   ]
  },
  {
   "cell_type": "markdown",
   "metadata": {},
   "source": [
    "### <font color=green> Handle missing values </font>"
   ]
  },
  {
   "cell_type": "code",
   "execution_count": 11,
   "metadata": {},
   "outputs": [],
   "source": [
    "# np.sum(aws_dum.isnull())"
   ]
  },
  {
   "cell_type": "code",
   "execution_count": 12,
   "metadata": {},
   "outputs": [],
   "source": [
    "# fill with empty strings\n",
    "aws_dum = aws_dum.fillna('')"
   ]
  },
  {
   "cell_type": "markdown",
   "metadata": {},
   "source": [
    "### <font color=green> Edit text columns </font>"
   ]
  },
  {
   "cell_type": "code",
   "execution_count": 13,
   "metadata": {},
   "outputs": [],
   "source": [
    "# all the text columns\n",
    "aws_text_cols = ['title','description', 'basic_qualifications', 'preferred_qualifications',\\\n",
    "            'company_name','business_category', 'job_category', 'job_family', 'team',\\\n",
    "            'primary_search_label', 'optional_search_labels']"
   ]
  },
  {
   "cell_type": "code",
   "execution_count": 14,
   "metadata": {},
   "outputs": [],
   "source": [
    "for col in aws_text_cols:\n",
    "    aws_dum[col] = aws_dum[col].str.lower()\n",
    "    # replace any non-alphanumeric characters to space\n",
    "    # all foriegn letters will also be removed\n",
    "    aws_dum[col] = aws_dum[col].apply(lambda x: re.sub('[^0-9a-z]+',' ',x))\n",
    "    # replace multiple spaces with one space\n",
    "    aws_dum[col] = aws_dum[col].apply(lambda x: re.sub(' +',' ',x))\n",
    "    # strip leading and trailing spaces\n",
    "    aws_dum[col] = aws_dum[col].str.strip()\n",
    "    # replace 'amazon web services' with 'aws'\n",
    "    aws_dum[col] = aws_dum[col].str.replace('amazon web services', 'aws')"
   ]
  },
  {
   "cell_type": "markdown",
   "metadata": {},
   "source": [
    "### <font color=green> Get coutry name and continent </font>"
   ]
  },
  {
   "cell_type": "code",
   "execution_count": 15,
   "metadata": {},
   "outputs": [],
   "source": [
    "countries = pd.read_csv('countries.csv',delimiter=';')\n",
    "countries = countries[['Country','Country code','Continent']]\n",
    "countries.columns = ['country','country_code','continent']"
   ]
  },
  {
   "cell_type": "code",
   "execution_count": 16,
   "metadata": {},
   "outputs": [],
   "source": [
    "aws_dum['country_code'] = aws_dum['country_code'].str.replace('UK','GB')"
   ]
  },
  {
   "cell_type": "code",
   "execution_count": 17,
   "metadata": {},
   "outputs": [],
   "source": [
    "aws_dum = pd.merge(aws_dum,countries,how='left',on='country_code')"
   ]
  },
  {
   "cell_type": "markdown",
   "metadata": {},
   "source": [
    "### <font color=green> Change 'posted_date' and 'updated_time' to time series </font>"
   ]
  },
  {
   "cell_type": "code",
   "execution_count": 18,
   "metadata": {},
   "outputs": [],
   "source": [
    "aws_dum['posted_date'] = pd.to_datetime(aws_dum['posted_date'])"
   ]
  },
  {
   "cell_type": "code",
   "execution_count": 19,
   "metadata": {},
   "outputs": [],
   "source": [
    "def apply_offset(updated):\n",
    "    \"\"\"apply the offset in updated_time to convert it to a timestamp\"\"\"\n",
    "    offset = re.search('\\d+',updated).group()\n",
    "    label = re.search('hour|day|month|year',updated).group()\n",
    "    if offset and label:\n",
    "        if label == 'year':\n",
    "            updated = pd.Timestamp.today() + pd.DateOffset(years=-int(offset))\n",
    "        elif label == 'month':\n",
    "            updated = pd.Timestamp.today() + pd.DateOffset(months=-int(offset))\n",
    "        elif label == 'day':\n",
    "            updated = pd.Timestamp.today() + pd.DateOffset(days=-int(offset))\n",
    "        elif label == 'hour':\n",
    "            updated = pd.Timestamp.today() + pd.DateOffset(hours=-int(offset))\n",
    "        else:\n",
    "            print('No label found?', updated)\n",
    "            updated = pd.Timestamp.today()\n",
    "    else:\n",
    "        print('No offset and label found?', updated)\n",
    "        updated = pd.Timestamp.today()\n",
    "        \n",
    "    return(updated)"
   ]
  },
  {
   "cell_type": "code",
   "execution_count": 20,
   "metadata": {},
   "outputs": [],
   "source": [
    "aws_dum['updated_time'] = aws_dum['updated_time'].map(apply_offset)"
   ]
  },
  {
   "cell_type": "markdown",
   "metadata": {},
   "source": [
    "### <font color=green> Copy to aws_clean </font>"
   ]
  },
  {
   "cell_type": "code",
   "execution_count": 21,
   "metadata": {
    "scrolled": true
   },
   "outputs": [],
   "source": [
    "aws_clean = aws_dum\n",
    "# aws_clean.sample(5)"
   ]
  },
  {
   "cell_type": "markdown",
   "metadata": {},
   "source": [
    "## <font color=blue> Azure </font>"
   ]
  },
  {
   "cell_type": "markdown",
   "metadata": {},
   "source": [
    "### <font color=green> Discard unwanted columns and reorder columns </font>"
   ]
  },
  {
   "cell_type": "code",
   "execution_count": 22,
   "metadata": {
    "scrolled": true
   },
   "outputs": [],
   "source": [
    "# azure_raw.columns.tolist()"
   ]
  },
  {
   "cell_type": "code",
   "execution_count": 23,
   "metadata": {},
   "outputs": [],
   "source": [
    "azure_dum = azure_raw[['title','job_id','date','location','description','responsibilites',\n",
    "                         'qualifications','profession']]"
   ]
  },
  {
   "cell_type": "code",
   "execution_count": 24,
   "metadata": {
    "scrolled": true
   },
   "outputs": [],
   "source": [
    "# azure_dum.sample(5)"
   ]
  },
  {
   "cell_type": "markdown",
   "metadata": {},
   "source": [
    "### <font color=green> Handle missing values </font>"
   ]
  },
  {
   "cell_type": "code",
   "execution_count": 25,
   "metadata": {},
   "outputs": [],
   "source": [
    "# np.sum(azure_dum.isnull())"
   ]
  },
  {
   "cell_type": "code",
   "execution_count": 26,
   "metadata": {},
   "outputs": [],
   "source": [
    "# Drop rows with missing titles and descriptions\n",
    "azure_dum = azure_dum.dropna(how='any')"
   ]
  },
  {
   "cell_type": "markdown",
   "metadata": {},
   "source": [
    "### <font color=green> Edit text columns </font>"
   ]
  },
  {
   "cell_type": "code",
   "execution_count": 27,
   "metadata": {},
   "outputs": [],
   "source": [
    "# all the text columns\n",
    "azure_text_cols = ['title','description', 'responsibilites', 'qualifications', 'profession']"
   ]
  },
  {
   "cell_type": "code",
   "execution_count": 28,
   "metadata": {},
   "outputs": [],
   "source": [
    "for col in azure_text_cols:\n",
    "    azure_dum[col] = azure_dum[col].str.lower()\n",
    "    # replace any non-alphanumeric characters to space\n",
    "    # all foriegn letters will also be removed\n",
    "    azure_dum[col] = azure_dum[col].apply(lambda x: re.sub('[^0-9a-z]+',' ',x))\n",
    "    # replace multiple spaces with one space\n",
    "    azure_dum[col] = azure_dum[col].apply(lambda x: re.sub(' +',' ',x))\n",
    "    # strip leading and trailing spaces\n",
    "    azure_dum[col] = azure_dum[col].str.strip()"
   ]
  },
  {
   "cell_type": "markdown",
   "metadata": {},
   "source": [
    "### <font color=green> Split City/State/Country and get country code </font>"
   ]
  },
  {
   "cell_type": "code",
   "execution_count": 29,
   "metadata": {},
   "outputs": [],
   "source": [
    "azure_dum['city'] = azure_dum['location'].apply(lambda x: x.split(',')[0].strip())\n",
    "azure_dum['state'] = azure_dum['location'].apply(lambda x: x.split(',')[1].strip())\n",
    "azure_dum['country'] = azure_dum['location'].apply(lambda x: x.split(',')[2].strip())"
   ]
  },
  {
   "cell_type": "code",
   "execution_count": 30,
   "metadata": {},
   "outputs": [],
   "source": [
    "azure_dum['country'] = azure_dum['country'].str.replace('Hong Kong SAR','Hong Kong')\n",
    "azure_dum['country'] = azure_dum['country'].str.replace('Korea','South Korea')\n",
    "azure_dum['country'] = azure_dum['country'].str.replace('Côte d\\'Ivoire','Ivory Coast')"
   ]
  },
  {
   "cell_type": "code",
   "execution_count": 31,
   "metadata": {},
   "outputs": [],
   "source": [
    "azure_dum = pd.merge(azure_dum,countries,how='left',left_on='country',right_on='country')\n",
    "# check if there are unmatched countries\n",
    "# np.sum(azure_dum['country_code'].isnull())\n",
    "# azure_dum.loc[azure_dum['country_code'].isnull(), 'country']"
   ]
  },
  {
   "cell_type": "markdown",
   "metadata": {},
   "source": [
    "### <font color=green> Change 'date' to time series </font>"
   ]
  },
  {
   "cell_type": "code",
   "execution_count": 32,
   "metadata": {},
   "outputs": [],
   "source": [
    "azure_dum['date'] = pd.to_datetime(azure_dum['date'])"
   ]
  },
  {
   "cell_type": "markdown",
   "metadata": {},
   "source": [
    "### <font color=green> Copy to azure_clean </font>"
   ]
  },
  {
   "cell_type": "code",
   "execution_count": 33,
   "metadata": {
    "scrolled": false
   },
   "outputs": [],
   "source": [
    "azure_clean = azure_dum\n",
    "# azure_clean.sample(5)"
   ]
  },
  {
   "cell_type": "markdown",
   "metadata": {},
   "source": [
    "# Select Pure Sample"
   ]
  },
  {
   "cell_type": "markdown",
   "metadata": {},
   "source": [
    "The search results from the career websites include every job position that mentions the key words at some point. Therefore some job positions are actually not relevant. We need to select a pure sample that only includes related positions."
   ]
  },
  {
   "cell_type": "markdown",
   "metadata": {},
   "source": [
    "## <font color=blue> AWS </font>"
   ]
  },
  {
   "cell_type": "markdown",
   "metadata": {},
   "source": [
    "Explore to see what's the best way to select a pure sample."
   ]
  },
  {
   "cell_type": "code",
   "execution_count": 34,
   "metadata": {},
   "outputs": [],
   "source": [
    "test_cols = aws_clean[['title','description']]\n",
    "test = test_cols.apply(lambda x: x.str.contains('aws')).any(axis=1)"
   ]
  },
  {
   "cell_type": "code",
   "execution_count": 35,
   "metadata": {},
   "outputs": [
    {
     "data": {
      "text/plain": [
       "True     14421\n",
       "False     2403\n",
       "dtype: int64"
      ]
     },
     "execution_count": 35,
     "metadata": {},
     "output_type": "execute_result"
    }
   ],
   "source": [
    "test.value_counts()"
   ]
  },
  {
   "cell_type": "code",
   "execution_count": 36,
   "metadata": {},
   "outputs": [],
   "source": [
    "label_cols = aws_clean[['company_name','business_category','job_category','job_family',\n",
    "                  'team','primary_search_label','optional_search_labels']]\n",
    "pure = label_cols.apply(lambda x: x.str.contains('aws')).any(axis=1)"
   ]
  },
  {
   "cell_type": "code",
   "execution_count": 37,
   "metadata": {},
   "outputs": [
    {
     "data": {
      "text/plain": [
       "True     13324\n",
       "False     3500\n",
       "dtype: int64"
      ]
     },
     "execution_count": 37,
     "metadata": {},
     "output_type": "execute_result"
    }
   ],
   "source": [
    "pure.value_counts()"
   ]
  },
  {
   "cell_type": "code",
   "execution_count": 38,
   "metadata": {},
   "outputs": [],
   "source": [
    "# aws_clean[np.logical_and(test == True, pure != True)].shape\n",
    "# aws_clean[np.logical_and(test != True, pure == True)].shape\n",
    "# aws_clean[np.logical_and(test == True, pure == True)].shape\n",
    "# aws_clean[np.logical_and(test != True, pure != True)].shape"
   ]
  },
  {
   "cell_type": "code",
   "execution_count": 39,
   "metadata": {},
   "outputs": [],
   "source": [
    "# take a look at the data\n",
    "# aws_clean[np.logical_and(test != True, pure == True)]"
   ]
  },
  {
   "cell_type": "markdown",
   "metadata": {},
   "source": [
    "Select jobs that have 'aws' in 'title' or 'description'."
   ]
  },
  {
   "cell_type": "code",
   "execution_count": 40,
   "metadata": {},
   "outputs": [],
   "source": [
    "mask = aws_clean[['title','description']].apply(lambda x: x.str.contains('aws')).any(axis=1)\n",
    "aws_pure = aws_clean[mask]"
   ]
  },
  {
   "cell_type": "code",
   "execution_count": 41,
   "metadata": {},
   "outputs": [
    {
     "data": {
      "text/plain": [
       "0.8571683309557775"
      ]
     },
     "execution_count": 41,
     "metadata": {},
     "output_type": "execute_result"
    }
   ],
   "source": [
    "aws_pure.shape[0]/aws_clean.shape[0]"
   ]
  },
  {
   "cell_type": "markdown",
   "metadata": {},
   "source": [
    "## <font color=blue> Azure </font>"
   ]
  },
  {
   "cell_type": "markdown",
   "metadata": {},
   "source": [
    "Explore."
   ]
  },
  {
   "cell_type": "code",
   "execution_count": 42,
   "metadata": {},
   "outputs": [],
   "source": [
    "test_cols = azure_clean[['title','description','responsibilites']]\n",
    "test = test_cols.apply(lambda x: x.str.contains('azure')).any(axis=1)"
   ]
  },
  {
   "cell_type": "code",
   "execution_count": 43,
   "metadata": {
    "scrolled": true
   },
   "outputs": [
    {
     "data": {
      "text/plain": [
       "True     3723\n",
       "False     714\n",
       "dtype: int64"
      ]
     },
     "execution_count": 43,
     "metadata": {},
     "output_type": "execute_result"
    }
   ],
   "source": [
    "test.value_counts()"
   ]
  },
  {
   "cell_type": "markdown",
   "metadata": {},
   "source": [
    "Select jobs that have 'azure' in 'title', 'description', or 'responsibilites'."
   ]
  },
  {
   "cell_type": "code",
   "execution_count": 44,
   "metadata": {},
   "outputs": [],
   "source": [
    "mask = azure_clean[['title','description','responsibilites']].apply(\n",
    "                                               lambda x: x.str.contains('azure')).any(axis=1)\n",
    "azure_pure = azure_clean[mask]"
   ]
  },
  {
   "cell_type": "code",
   "execution_count": 45,
   "metadata": {},
   "outputs": [
    {
     "data": {
      "text/plain": [
       "0.8390804597701149"
      ]
     },
     "execution_count": 45,
     "metadata": {},
     "output_type": "execute_result"
    }
   ],
   "source": [
    "azure_pure.shape[0]/azure_clean.shape[0]"
   ]
  },
  {
   "cell_type": "markdown",
   "metadata": {},
   "source": [
    "# Data Analysis"
   ]
  },
  {
   "cell_type": "code",
   "execution_count": 46,
   "metadata": {},
   "outputs": [],
   "source": [
    "aws = aws_pure\n",
    "azure = azure_pure"
   ]
  },
  {
   "cell_type": "markdown",
   "metadata": {},
   "source": [
    "## <font color=blue> Market share </font>"
   ]
  },
  {
   "cell_type": "code",
   "execution_count": 47,
   "metadata": {},
   "outputs": [],
   "source": [
    "comp_ratio = pd.DataFrame([['# of Job Postings',aws.shape[0]/azure.shape[0],'AWS'],\n",
    "                           ['# of Job Postings',1,'Azure'],\n",
    "                           ['Market Share',47/22,'AWS'],\n",
    "                           ['Market Share',1,'Azure']],\n",
    "                           columns = ['','Ratio','Company'])"
   ]
  },
  {
   "cell_type": "code",
   "execution_count": 48,
   "metadata": {
    "scrolled": true
   },
   "outputs": [
    {
     "data": {
      "image/png": "[encoded data removed]",
      "text/plain": [
       "<Figure size 864x432 with 1 Axes>"
      ]
     },
     "metadata": {
      "needs_background": "light"
     },
     "output_type": "display_data"
    }
   ],
   "source": [
    "plt.figure(figsize=(12,6))\n",
    "sb.barplot(comp_ratio[''], comp_ratio['Ratio'], \n",
    "                comp_ratio['Company'],hue_order=['AWS','Azure'])\n",
    "plt.legend(loc='upper right')\n",
    "plt.savefig('ratio_plot.png')"
   ]
  },
  {
   "cell_type": "markdown",
   "metadata": {},
   "source": [
    "### <font color=green> Conclusion</font>"
   ]
  },
  {
   "cell_type": "markdown",
   "metadata": {},
   "source": [
    "AWS' market shares doubles that of Azure. Its job postings are four times more than Azure."
   ]
  },
  {
   "cell_type": "markdown",
   "metadata": {},
   "source": [
    "## <font color=blue> Geographical characteristics </font>"
   ]
  },
  {
   "cell_type": "code",
   "execution_count": 49,
   "metadata": {},
   "outputs": [],
   "source": [
    "aws_continent = aws.groupby('continent').size().sort_values(ascending=False)/aws.shape[0]*100\n",
    "azure_continent = azure.groupby('continent').size().sort_values(ascending=False)/azure.shape[0]*100"
   ]
  },
  {
   "cell_type": "code",
   "execution_count": 50,
   "metadata": {
    "scrolled": false
   },
   "outputs": [],
   "source": [
    "aws_continent = pd.DataFrame(aws_continent).reset_index()\n",
    "aws_continent['company'] = 'AWS'"
   ]
  },
  {
   "cell_type": "code",
   "execution_count": 51,
   "metadata": {},
   "outputs": [],
   "source": [
    "azure_continent = pd.DataFrame(azure_continent).reset_index()\n",
    "azure_continent['company'] = 'Azure'"
   ]
  },
  {
   "cell_type": "code",
   "execution_count": 52,
   "metadata": {},
   "outputs": [],
   "source": [
    "comp_continent = pd.concat([aws_continent,azure_continent])\n",
    "comp_continent.columns = ['Continent','Percentage','Company']"
   ]
  },
  {
   "cell_type": "code",
   "execution_count": 53,
   "metadata": {
    "scrolled": true
   },
   "outputs": [
    {
     "data": {
      "image/png": "[encoded data removed]",
      "text/plain": [
       "<Figure size 864x432 with 1 Axes>"
      ]
     },
     "metadata": {
      "needs_background": "light"
     },
     "output_type": "display_data"
    }
   ],
   "source": [
    "plt.figure(figsize=(12,6))\n",
    "sb.barplot(comp_continent['Percentage'], comp_continent['Continent'], \n",
    "                comp_continent['Company'],hue_order=['AWS','Azure'])\n",
    "plt.legend(loc='lower right')\n",
    "plt.savefig('continent_plot.png')"
   ]
  },
  {
   "cell_type": "code",
   "execution_count": 54,
   "metadata": {},
   "outputs": [],
   "source": [
    "comp_market = pd.DataFrame([\n",
    "    ['Domestic',np.sum(aws['country_code'] == 'US')/aws.shape[0]*100, 'AWS'],\n",
    "    ['International',np.sum(aws['country_code'] != 'US')/aws.shape[0]*100, 'AWS'],\n",
    "    ['Domestic',np.sum(azure['country_code'] == 'US')/azure.shape[0]*100, 'Azure'],\n",
    "    ['International',np.sum(azure['country_code'] != 'US')/azure.shape[0]*100, 'Azure']],\n",
    "      columns = ['Area','Percentage','Company'])"
   ]
  },
  {
   "cell_type": "code",
   "execution_count": 55,
   "metadata": {},
   "outputs": [
    {
     "data": {
      "text/html": [
       "<div>\n",
       "<style scoped>\n",
       "    .dataframe tbody tr th:only-of-type {\n",
       "        vertical-align: middle;\n",
       "    }\n",
       "\n",
       "    .dataframe tbody tr th {\n",
       "        vertical-align: top;\n",
       "    }\n",
       "\n",
       "    .dataframe thead th {\n",
       "        text-align: right;\n",
       "    }\n",
       "</style>\n",
       "<table border=\"1\" class=\"dataframe\">\n",
       "  <thead>\n",
       "    <tr style=\"text-align: right;\">\n",
       "      <th></th>\n",
       "      <th>Area</th>\n",
       "      <th>Percentage</th>\n",
       "      <th>Company</th>\n",
       "    </tr>\n",
       "  </thead>\n",
       "  <tbody>\n",
       "    <tr>\n",
       "      <th>0</th>\n",
       "      <td>Domestic</td>\n",
       "      <td>67.477983</td>\n",
       "      <td>AWS</td>\n",
       "    </tr>\n",
       "    <tr>\n",
       "      <th>1</th>\n",
       "      <td>International</td>\n",
       "      <td>32.522017</td>\n",
       "      <td>AWS</td>\n",
       "    </tr>\n",
       "    <tr>\n",
       "      <th>2</th>\n",
       "      <td>Domestic</td>\n",
       "      <td>62.181037</td>\n",
       "      <td>Azure</td>\n",
       "    </tr>\n",
       "    <tr>\n",
       "      <th>3</th>\n",
       "      <td>International</td>\n",
       "      <td>37.818963</td>\n",
       "      <td>Azure</td>\n",
       "    </tr>\n",
       "  </tbody>\n",
       "</table>\n",
       "</div>"
      ],
      "text/plain": [
       "            Area  Percentage Company\n",
       "0       Domestic   67.477983     AWS\n",
       "1  International   32.522017     AWS\n",
       "2       Domestic   62.181037   Azure\n",
       "3  International   37.818963   Azure"
      ]
     },
     "execution_count": 55,
     "metadata": {},
     "output_type": "execute_result"
    }
   ],
   "source": [
    "comp_market"
   ]
  },
  {
   "cell_type": "code",
   "execution_count": 56,
   "metadata": {},
   "outputs": [
    {
     "data": {
      "image/png": "[encoded data removed]",
      "text/plain": [
       "<Figure size 864x432 with 1 Axes>"
      ]
     },
     "metadata": {
      "needs_background": "light"
     },
     "output_type": "display_data"
    }
   ],
   "source": [
    "plt.figure(figsize=(12,6))\n",
    "sb.barplot(comp_market['Area'], comp_market['Percentage'], \n",
    "                comp_market['Company'],hue_order=['AWS','Azure'])\n",
    "plt.legend(loc='upper right')\n",
    "plt.savefig('market_plot.png')"
   ]
  },
  {
   "cell_type": "markdown",
   "metadata": {},
   "source": [
    "### <font color=green> Conclusion</font>"
   ]
  },
  {
   "cell_type": "markdown",
   "metadata": {},
   "source": [
    "For the ratio of domestic vs international market, AWS is higher than Azure."
   ]
  },
  {
   "cell_type": "markdown",
   "metadata": {},
   "source": [
    "## <font color=blue> Time series </font>"
   ]
  },
  {
   "cell_type": "code",
   "execution_count": 57,
   "metadata": {
    "scrolled": true
   },
   "outputs": [
    {
     "name": "stderr",
     "output_type": "stream",
     "text": [
      "/usr/local/lib/python3.7/site-packages/pandas/core/indexing.py:376: SettingWithCopyWarning: \n",
      "A value is trying to be set on a copy of a slice from a DataFrame.\n",
      "Try using .loc[row_indexer,col_indexer] = value instead\n",
      "\n",
      "See the caveats in the documentation: http://pandas.pydata.org/pandas-docs/stable/user_guide/indexing.html#returning-a-view-versus-a-copy\n",
      "  self.obj[key] = _infer_fill_value(value)\n",
      "/usr/local/lib/python3.7/site-packages/pandas/core/indexing.py:494: SettingWithCopyWarning: \n",
      "A value is trying to be set on a copy of a slice from a DataFrame.\n",
      "Try using .loc[row_indexer,col_indexer] = value instead\n",
      "\n",
      "See the caveats in the documentation: http://pandas.pydata.org/pandas-docs/stable/user_guide/indexing.html#returning-a-view-versus-a-copy\n",
      "  self.obj[item] = s\n"
     ]
    }
   ],
   "source": [
    "aws_date = 'updated_time' # posted_date,updated_time\n",
    "aws.loc[:,'year_month'] = aws.loc[:,aws_date].dt.to_period('M')\n",
    "azure.loc[:,'year_month'] = azure.loc[:,'date'].dt.to_period('M')"
   ]
  },
  {
   "cell_type": "code",
   "execution_count": 58,
   "metadata": {},
   "outputs": [],
   "source": [
    "aws_time = aws.groupby('year_month').size()/aws.shape[0]*100\n",
    "azure_time = azure.groupby('year_month').size()/azure.shape[0]*100"
   ]
  },
  {
   "cell_type": "code",
   "execution_count": 59,
   "metadata": {},
   "outputs": [],
   "source": [
    "aws_time = pd.DataFrame(aws_time).reset_index()\n",
    "aws_time = aws_time[aws_time['year_month'] > pd.Timestamp('2019-08')]\n",
    "aws_time['company'] = 'AWS'"
   ]
  },
  {
   "cell_type": "code",
   "execution_count": 60,
   "metadata": {},
   "outputs": [],
   "source": [
    "azure_time = pd.DataFrame(azure_time).reset_index()\n",
    "azure_time = azure_time[azure_time['year_month'] > pd.Timestamp('2019-08')]\n",
    "azure_time['company'] = 'Azure'"
   ]
  },
  {
   "cell_type": "code",
   "execution_count": 61,
   "metadata": {},
   "outputs": [],
   "source": [
    "comp_time = pd.concat([aws_time,azure_time])\n",
    "comp_time.columns = ['Time','Percentage','Company']"
   ]
  },
  {
   "cell_type": "code",
   "execution_count": 62,
   "metadata": {},
   "outputs": [
    {
     "data": {
      "text/plain": [
       "Time          period[M]\n",
       "Percentage      float64\n",
       "Company          object\n",
       "dtype: object"
      ]
     },
     "execution_count": 62,
     "metadata": {},
     "output_type": "execute_result"
    }
   ],
   "source": [
    "comp_time.dtypes"
   ]
  },
  {
   "cell_type": "code",
   "execution_count": 63,
   "metadata": {
    "scrolled": true
   },
   "outputs": [
    {
     "data": {
      "image/png": "[encoded data removed]",
      "text/plain": [
       "<Figure size 864x432 with 1 Axes>"
      ]
     },
     "metadata": {
      "needs_background": "light"
     },
     "output_type": "display_data"
    }
   ],
   "source": [
    "plt.figure(figsize=(12,6))\n",
    "sb.barplot(comp_time['Time'], comp_time['Percentage'],\n",
    "                comp_time['Company'],hue_order=['AWS','Azure'])\n",
    "plt.legend(loc='upper left')\n",
    "plt.savefig('time_plot_'+aws_date+'.png')"
   ]
  },
  {
   "cell_type": "markdown",
   "metadata": {},
   "source": [
    "### <font color=green> Conclusion</font>"
   ]
  },
  {
   "cell_type": "markdown",
   "metadata": {},
   "source": [
    "AWS has more new positions. If we assume the hiring process takes about the same time, AWS' hiring rate is higher than Azure recently."
   ]
  },
  {
   "cell_type": "markdown",
   "metadata": {},
   "source": [
    "## <font color=blue> Job Categories </font>"
   ]
  },
  {
   "cell_type": "code",
   "execution_count": 64,
   "metadata": {},
   "outputs": [],
   "source": [
    "aws_title = ' '.join(aws['title'])\n",
    "aws_title = collections.Counter(aws_title.split())\n",
    "aws_title_count = pd.DataFrame({'word': list(aws_title.keys()), \n",
    "                                'count': list(aws_title.values())})\n",
    "aws_title_count = aws_title_count.sort_values(by='count',ascending=False)\n",
    "aws_title_count.to_csv('title_counts_aws.csv')"
   ]
  },
  {
   "cell_type": "code",
   "execution_count": 65,
   "metadata": {},
   "outputs": [],
   "source": [
    "azure_title = ' '.join(azure['title'])\n",
    "azure_title = collections.Counter(azure_title.split())\n",
    "azure_title_count = pd.DataFrame({'word': list(azure_title.keys()), \n",
    "                                'count': list(azure_title.values())})\n",
    "azure_title_count = azure_title_count.sort_values(by='count',ascending=False)\n",
    "azure_title_count.to_csv('title_counts_azure.csv')"
   ]
  },
  {
   "cell_type": "code",
   "execution_count": 66,
   "metadata": {},
   "outputs": [],
   "source": [
    "comp_category = []"
   ]
  },
  {
   "cell_type": "code",
   "execution_count": 67,
   "metadata": {},
   "outputs": [],
   "source": [
    "job_keywords = ['engineer','sde','developer']\n",
    "counts = len(aws[aws['title'].map(lambda x: \n",
    "                                  any([key in x.split() for key in job_keywords]))])\n",
    "comp_category.append(['Engineer',counts/aws.shape[0],'AWS'])"
   ]
  },
  {
   "cell_type": "code",
   "execution_count": 68,
   "metadata": {
    "scrolled": false
   },
   "outputs": [],
   "source": [
    "job_keywords = ['engineer','sde','developer']\n",
    "counts = len(azure[azure['title'].map(lambda x: \n",
    "                                      any([key in x.split() for key in job_keywords]))])\n",
    "comp_category.append(['Engineer',counts/azure.shape[0],'Azure'])"
   ]
  },
  {
   "cell_type": "code",
   "execution_count": 69,
   "metadata": {},
   "outputs": [],
   "source": [
    "job_keywords = ['solutions architect','solution architect']\n",
    "counts = len(aws[aws['title'].map(lambda x: \n",
    "                                  any([x.find(key) != -1 for key in job_keywords]))])\n",
    "comp_category.append(['Solution Architect',counts/aws.shape[0],'AWS'])"
   ]
  },
  {
   "cell_type": "code",
   "execution_count": 70,
   "metadata": {},
   "outputs": [],
   "source": [
    "job_keywords = ['solutions architect','solution architect']\n",
    "counts = len(azure[azure['title'].map(lambda x: \n",
    "                                      any([x.find(key) != -1 for key in job_keywords]))])\n",
    "comp_category.append(['Solution Architect',counts/azure.shape[0],'Azure'])"
   ]
  },
  {
   "cell_type": "code",
   "execution_count": 71,
   "metadata": {},
   "outputs": [],
   "source": [
    "job_keywords = ['data scientist']\n",
    "counts = len(aws[aws['title'].map(lambda x: \n",
    "                                  any([x.find(key) != -1 for key in job_keywords]))])\n",
    "comp_category.append(['Data Scientist',counts/aws.shape[0],'AWS'])"
   ]
  },
  {
   "cell_type": "code",
   "execution_count": 72,
   "metadata": {},
   "outputs": [],
   "source": [
    "job_keywords = ['data scientist']\n",
    "counts = len(azure[azure['title'].map(lambda x: \n",
    "                                  any([x.find(key) != -1 for key in job_keywords]))])\n",
    "comp_category.append(['Data Scientist',counts/azure.shape[0],'Azure'])"
   ]
  },
  {
   "cell_type": "code",
   "execution_count": 73,
   "metadata": {},
   "outputs": [],
   "source": [
    "job_keywords = ['manager','director']\n",
    "counts = len(aws[aws['title'].map(lambda x: \n",
    "                                  any([key in x.split() for key in job_keywords]))])\n",
    "comp_category.append(['Manager',counts/aws.shape[0],'AWS'])"
   ]
  },
  {
   "cell_type": "code",
   "execution_count": 74,
   "metadata": {},
   "outputs": [],
   "source": [
    "job_keywords = ['manager','director']\n",
    "counts = len(azure[azure['title'].map(lambda x: \n",
    "                                  any([key in x.split() for key in job_keywords]))])\n",
    "comp_category.append(['Manager',counts/aws.shape[0],'Azure'])"
   ]
  },
  {
   "cell_type": "markdown",
   "metadata": {},
   "source": [
    "### <font color=green> Plot </font>"
   ]
  },
  {
   "cell_type": "code",
   "execution_count": 75,
   "metadata": {},
   "outputs": [],
   "source": [
    "comp_category = pd.DataFrame(comp_category,columns = ['Job','Percentage','Company'])"
   ]
  },
  {
   "cell_type": "code",
   "execution_count": 76,
   "metadata": {},
   "outputs": [
    {
     "data": {
      "image/png": "[encoded data removed]",
      "text/plain": [
       "<Figure size 864x432 with 1 Axes>"
      ]
     },
     "metadata": {
      "needs_background": "light"
     },
     "output_type": "display_data"
    }
   ],
   "source": [
    "plt.figure(figsize=(12,6))\n",
    "sb.barplot(comp_category['Job'], comp_category['Percentage']*100,\n",
    "                comp_category['Company'],hue_order=['AWS','Azure'])\n",
    "plt.legend(loc='upper right')\n",
    "plt.savefig('category_plot.png')"
   ]
  },
  {
   "cell_type": "markdown",
   "metadata": {},
   "source": [
    "### <font color=green> Conclusion</font>"
   ]
  },
  {
   "cell_type": "markdown",
   "metadata": {},
   "source": [
    "Azure has higher percentage of engineers. A quarter of the positions in AWS are managers."
   ]
  },
  {
   "cell_type": "markdown",
   "metadata": {},
   "source": [
    "## <font color=blue> Skills </font>"
   ]
  },
  {
   "cell_type": "code",
   "execution_count": 77,
   "metadata": {},
   "outputs": [],
   "source": [
    "# Use TextBlob to generate ngrams(2)\n",
    "\n",
    "# azure_skill = ' '.join(azure['qualifications'])\n",
    "# stop_words = set(stopwords.words('english'))\n",
    "# skill_tokens = word_tokenize(azure_skill)\n",
    "# skill_filtered = [w for w in skill_tokens if w not in stop_words]\n",
    "# two = TextBlob(' '.join(skill_filtered)).ngrams(2)\n",
    "# two = [tuple(l) for i,l in enumerate(two)]\n",
    "# two_count = collections.Counter(two)\n",
    "# two_count = collections.Counter(two)\n",
    "# two_count = pd.DataFrame({'word': list(two_count.keys()), \n",
    "#                                 'count': list(two_count.values())})\n",
    "# two_count = two_count.sort_values(by='count',ascending=False)\n",
    "# two_count.to_csv('two_counts_aws.csv')"
   ]
  },
  {
   "cell_type": "code",
   "execution_count": 78,
   "metadata": {},
   "outputs": [],
   "source": [
    "# Take a look at the word counts.\n",
    "\n",
    "# azure_skill = ' '.join(azure['qualifications']).split()\n",
    "# stop_words = set(stopwords.words('english'))\n",
    "# azure_skill = [w for w in azure_skill if w not in stop_words]\n",
    "# azure_skill = collections.Counter(azure_skill)\n",
    "# azure_skill_count = pd.DataFrame({'word': list(azure_skill.keys()), \n",
    "#                                 'count': list(azure_skill.values())})\n",
    "# azure_skill_count = azure_skill_count.sort_values(by='count',ascending=False)\n",
    "# azure_skill_count.to_csv('skill_counts_azure.csv')"
   ]
  },
  {
   "cell_type": "code",
   "execution_count": 79,
   "metadata": {},
   "outputs": [],
   "source": [
    "skills = ['java','sql','python','linux','javascript','kubernetes','spark','r',\\\n",
    "          'js','nosql','mysql','hadoop','php','postgresql','jenkins','ruby','perl',\\\n",
    "          'docker','github','git','tensorflow','kafka','matlab','assembly','go','scala',\\\n",
    "          'delphi','swift','c']\n",
    "skills_raw = ['C++','C#']"
   ]
  },
  {
   "cell_type": "markdown",
   "metadata": {},
   "source": [
    "### <font color=green> Azure </font>"
   ]
  },
  {
   "cell_type": "code",
   "execution_count": 80,
   "metadata": {},
   "outputs": [],
   "source": [
    "azure_skill = ' '.join(azure['qualifications']).split()\n",
    "azure_skill_raw = ' '.join(azure_raw['qualifications']).split()\n",
    "stop_words = set(stopwords.words('english'))\n",
    "azure_skill = [w for w in azure_skill if w not in stop_words]"
   ]
  },
  {
   "cell_type": "code",
   "execution_count": 81,
   "metadata": {},
   "outputs": [],
   "source": [
    "dict_s = {}\n",
    "for s in skills:\n",
    "    dict_s[s] = azure_skill.count(s)"
   ]
  },
  {
   "cell_type": "code",
   "execution_count": 82,
   "metadata": {},
   "outputs": [],
   "source": [
    "mask = azure_raw[['title','description','responsibilites']].apply(lambda x: \n",
    "                                    x.str.contains('azure',case=False)).any(axis=1)\n",
    "azure_raw_pure = azure_raw[mask]"
   ]
  },
  {
   "cell_type": "code",
   "execution_count": 83,
   "metadata": {},
   "outputs": [
    {
     "data": {
      "text/plain": [
       "(3723, 3775, 4494)"
      ]
     },
     "execution_count": 83,
     "metadata": {},
     "output_type": "execute_result"
    }
   ],
   "source": [
    "len(azure),len(azure_raw_pure),len(azure_raw)"
   ]
  },
  {
   "cell_type": "code",
   "execution_count": 84,
   "metadata": {},
   "outputs": [],
   "source": [
    "azure_skill_raw_pure = ' '.join(azure_raw_pure['qualifications'])"
   ]
  },
  {
   "cell_type": "code",
   "execution_count": 85,
   "metadata": {},
   "outputs": [],
   "source": [
    "for s in skills_raw:\n",
    "    dict_s[s] = azure_skill_raw_pure.count(s)"
   ]
  },
  {
   "cell_type": "code",
   "execution_count": 86,
   "metadata": {},
   "outputs": [],
   "source": [
    "dict_s['c'] = dict_s['c'] - dict_s['C++'] - dict_s['C#']"
   ]
  },
  {
   "cell_type": "code",
   "execution_count": 87,
   "metadata": {},
   "outputs": [],
   "source": [
    "comp_skill_azure = pd.DataFrame({'Skill':list(dict_s.keys()),\n",
    "                                 'Counts':list(dict_s.values())})"
   ]
  },
  {
   "cell_type": "markdown",
   "metadata": {},
   "source": [
    "### <font color=green> AWS</font>"
   ]
  },
  {
   "cell_type": "code",
   "execution_count": 88,
   "metadata": {},
   "outputs": [],
   "source": [
    "aws_skill = ' '.join(aws['basic_qualifications']).split() + \\\n",
    "            ' '.join(aws['preferred_qualifications']).split()\n",
    "aws_skill = [w for w in aws_skill if w not in stop_words]"
   ]
  },
  {
   "cell_type": "code",
   "execution_count": 89,
   "metadata": {},
   "outputs": [],
   "source": [
    "dict_s = {}\n",
    "for s in skills:\n",
    "    dict_s[s] = aws_skill.count(s)"
   ]
  },
  {
   "cell_type": "code",
   "execution_count": 90,
   "metadata": {},
   "outputs": [],
   "source": [
    "mask = aws_raw[['title','description']].apply(lambda x: \n",
    "                        x.str.contains('aws|amazon web services',case=False)).any(axis=1)\n",
    "aws_raw_pure = aws_raw[mask]"
   ]
  },
  {
   "cell_type": "code",
   "execution_count": 91,
   "metadata": {},
   "outputs": [
    {
     "data": {
      "text/plain": [
       "(14421, 14421, 16824)"
      ]
     },
     "execution_count": 91,
     "metadata": {},
     "output_type": "execute_result"
    }
   ],
   "source": [
    "len(aws),len(aws_raw_pure),len(aws_raw)"
   ]
  },
  {
   "cell_type": "code",
   "execution_count": 92,
   "metadata": {},
   "outputs": [],
   "source": [
    "aws_skill_raw_pure = ' '.join(aws_raw_pure['basic_qualifications'])+' '+\\\n",
    "                     ' '.join(aws_raw_pure['preferred_qualifications'])"
   ]
  },
  {
   "cell_type": "code",
   "execution_count": 93,
   "metadata": {},
   "outputs": [],
   "source": [
    "for s in skills_raw:\n",
    "    dict_s[s] = aws_skill_raw_pure.count(s)"
   ]
  },
  {
   "cell_type": "code",
   "execution_count": 94,
   "metadata": {},
   "outputs": [],
   "source": [
    "dict_s['c'] = dict_s['c'] - dict_s['C++'] - dict_s['C#']"
   ]
  },
  {
   "cell_type": "code",
   "execution_count": 95,
   "metadata": {},
   "outputs": [],
   "source": [
    "comp_skill_aws = pd.DataFrame({'Skill':list(dict_s.keys()),\n",
    "                                 'Counts': list(dict_s.values())})"
   ]
  },
  {
   "cell_type": "code",
   "execution_count": 96,
   "metadata": {},
   "outputs": [],
   "source": [
    "comp_skill = pd.merge(comp_skill_aws,comp_skill_azure,on='Skill')"
   ]
  },
  {
   "cell_type": "markdown",
   "metadata": {},
   "source": [
    "### <font color=green> Plot </font>"
   ]
  },
  {
   "cell_type": "code",
   "execution_count": 97,
   "metadata": {},
   "outputs": [],
   "source": [
    "comp_skill.columns = ['Skill','AWS','Azure']"
   ]
  },
  {
   "cell_type": "code",
   "execution_count": 98,
   "metadata": {},
   "outputs": [],
   "source": [
    "comp_skill = comp_skill.sort_values(by='AWS',ascending=False)\n",
    "top = 12\n",
    "comp_skill_top = comp_skill.nlargest(top,'AWS')"
   ]
  },
  {
   "cell_type": "code",
   "execution_count": 99,
   "metadata": {},
   "outputs": [
    {
     "data": {
      "image/png": "[encoded data removed]",
      "text/plain": [
       "<Figure size 864x432 with 1 Axes>"
      ]
     },
     "metadata": {
      "needs_background": "light"
     },
     "output_type": "display_data"
    }
   ],
   "source": [
    "plt.figure(figsize=(12,6))\n",
    "sb.scatterplot(comp_skill_top['AWS'], comp_skill_top['Azure'],\n",
    "                comp_skill_top['Skill'],legend=None)\n",
    "for i in range(top):\n",
    "    plt.text(comp_skill_top.iloc[i,1]+50,comp_skill_top.iloc[i,2],comp_skill_top.iloc[i,0],\n",
    "             horizontalalignment='left', size='medium', color='black', weight='semibold')\n",
    "plt.savefig('skill_plot.png')"
   ]
  },
  {
   "cell_type": "markdown",
   "metadata": {},
   "source": [
    "### <font color=green> Conclusion</font>"
   ]
  },
  {
   "cell_type": "markdown",
   "metadata": {},
   "source": [
    "AWS uses Java and Ruby more often than Azure. Azure uses C# and SQL more often than AWS."
   ]
  },
  {
   "cell_type": "markdown",
   "metadata": {},
   "source": [
    "## <font color=blue> Mention Each Other </font>"
   ]
  },
  {
   "cell_type": "code",
   "execution_count": 100,
   "metadata": {},
   "outputs": [],
   "source": [
    "comp_each_other = comp_skill_top.append(pd.DataFrame([['AWS/Azure',aws_skill.count('azure'),\n",
    "                                         azure_skill.count('aws')]],\n",
    "                                       columns = comp_skill_top.columns))"
   ]
  },
  {
   "cell_type": "code",
   "execution_count": 101,
   "metadata": {},
   "outputs": [
    {
     "data": {
      "image/png": "[encoded data removed]",
      "text/plain": [
       "<Figure size 864x432 with 1 Axes>"
      ]
     },
     "metadata": {
      "needs_background": "light"
     },
     "output_type": "display_data"
    }
   ],
   "source": [
    "plt.figure(figsize=(12,6))\n",
    "sb.scatterplot(comp_each_other['AWS'], comp_each_other['Azure'],\n",
    "                comp_each_other['Skill'],legend = None)\n",
    "for i in range(top+1):\n",
    "    plt.text(comp_each_other.iloc[i,1]+50,comp_each_other.iloc[i,2],comp_each_other.iloc[i,0],\n",
    "             horizontalalignment='left', size='medium', color='black', weight='semibold')\n",
    "plt.savefig('each_other_plot.png')"
   ]
  },
  {
   "cell_type": "markdown",
   "metadata": {},
   "source": [
    "### <font color=green> Conclusion</font>"
   ]
  },
  {
   "cell_type": "markdown",
   "metadata": {},
   "source": [
    "Azure mentions AWS more often than AWS mentions Azure."
   ]
  },
  {
   "cell_type": "markdown",
   "metadata": {},
   "source": [
    "## <font color=blue> Future Work </font>"
   ]
  },
  {
   "cell_type": "markdown",
   "metadata": {},
   "source": [
    "Stratification of different features, e.g., time series analysis in domestic and international hires."
   ]
  }
 ],
 "metadata": {
  "kernelspec": {
   "display_name": "Python 3",
   "language": "python",
   "name": "python3"
  },
  "language_info": {
   "codemirror_mode": {
    "name": "ipython",
    "version": 3
   },
   "file_extension": ".py",
   "mimetype": "text/x-python",
   "name": "python",
   "nbconvert_exporter": "python",
   "pygments_lexer": "ipython3",
   "version": "3.7.5"
  }
 },
 "nbformat": 4,
 "nbformat_minor": 4
}
